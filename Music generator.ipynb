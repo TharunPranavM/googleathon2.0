{
  "nbformat": 4,
  "nbformat_minor": 0,
  "metadata": {
    "colab": {
      "provenance": [],
      "gpuType": "T4"
    },
    "kernelspec": {
      "name": "python3",
      "display_name": "Python 3"
    },
    "language_info": {
      "name": "python"
    },
    "accelerator": "GPU"
  },
  "cells": [
    {
      "cell_type": "markdown",
      "source": [
        "# MusicGen Gradio Demo\n",
        "\n",
        "Execute the first cell to install, the second one to run the demo.\n",
        "\n",
        "More info on our repository [facebookresearch/audiocraft](https://github.com/facebookresearch/audiocraft/) or our [research paper](https://arxiv.org/abs/2306.05284).\n",
        "\n",
        "First eval with a model will be slower because of the model download. Melody model should take 30 seconds for 15 seconds of audio."
      ],
      "metadata": {
        "id": "efhHAvBOgMnL"
      }
    },
    {
      "cell_type": "code",
      "source": [
        "# @title Execute first for installing AudioCraft\n",
        "# @markdown Execute this cell to install AudioCraft. (**Note:** the `pip install` stage might take a while.)\n",
        "from pathlib import Path\n",
        "import subprocess as sp\n",
        "from shutil import rmtree\n",
        "import re\n",
        "import time\n",
        "\n",
        "def run_log_on_fail(name, *args, **kwargs):\n",
        "    log = log_folder / (name + \".log\")\n",
        "    print(\"Running stage\", name)\n",
        "    try:\n",
        "        sp.run(*args, **kwargs, stdout=open(log, 'w'), stderr=sp.STDOUT, check=True)\n",
        "    except sp.CalledProcessError:\n",
        "        print(f\"Stage {name} failed, this is NOT expected, see logs hereafter.\")\n",
        "        print(open(log, 'r').read())\n",
        "        raise\n",
        "    else:\n",
        "        return log\n",
        "\n",
        "def install():\n",
        "    global log_folder\n",
        "    ac_folder = Path('/content/audiocraft')\n",
        "    log_folder = Path('/content/logs')\n",
        "    log_folder.mkdir(exist_ok=True, parents=True)\n",
        "    if ac_folder.exists():\n",
        "        rmtree(ac_folder)\n",
        "    try:\n",
        "        run_log_on_fail(\"git clone\", [\"git\", \"clone\", \"https://github.com/facebookresearch/audiocraft\"], cwd=ac_folder.parent)\n",
        "        run_log_on_fail(\"pip install\", [\"pip\", \"install\", \"-e\", \".\"], cwd=ac_folder)\n",
        "        pass\n",
        "    except sp.CalledProcessError:\n",
        "        print(\"INSTALLATION FAILED...\")\n",
        "        return\n",
        "\n",
        "install()"
      ],
      "metadata": {
        "id": "NJXpj7lyYjve",
        "outputId": "ca96b18b-9a52-4852-bda2-badd81d28eb4",
        "colab": {
          "base_uri": "https://localhost:8080/"
        }
      },
      "execution_count": 1,
      "outputs": [
        {
          "output_type": "stream",
          "name": "stdout",
          "text": [
            "Running stage git clone\n",
            "Running stage pip install\n"
          ]
        }
      ]
    },
    {
      "cell_type": "code",
      "source": [
        "#@title Execute then to launch the demo\n",
        "#@markdown Wait until you see `Running on public URL: ` in the link with a *.gradio.live url. Click on the URL, and enjoy!\n",
        "!cd /content/audiocraft && python -m demos.musicgen_app --share"
      ],
      "metadata": {
        "id": "0mFH0Nma65RU",
        "outputId": "35b53461-e366-42c7-860f-b1012c644954",
        "colab": {
          "base_uri": "https://localhost:8080/"
        }
      },
      "execution_count": null,
      "outputs": [
        {
          "output_type": "stream",
          "name": "stdout",
          "text": [
            "WARNING[XFORMERS]: xFormers can't load C++/CUDA extensions. xFormers was built for:\n",
            "    PyTorch 2.1.0+cu121 with CUDA 1201 (you have 2.1.0+cu118)\n",
            "    Python  3.10.13 (you have 3.10.12)\n",
            "  Please reinstall xformers (see https://github.com/facebookresearch/xformers#installing-xformers)\n",
            "  Memory-efficient attention, SwiGLU, sparse and more won't be available.\n",
            "  Set XFORMERS_MORE_DETAILS=1 for more details\n",
            "2023-11-21 04:18:32.125303: E tensorflow/compiler/xla/stream_executor/cuda/cuda_dnn.cc:9342] Unable to register cuDNN factory: Attempting to register factory for plugin cuDNN when one has already been registered\n",
            "2023-11-21 04:18:32.125362: E tensorflow/compiler/xla/stream_executor/cuda/cuda_fft.cc:609] Unable to register cuFFT factory: Attempting to register factory for plugin cuFFT when one has already been registered\n",
            "2023-11-21 04:18:32.125399: E tensorflow/compiler/xla/stream_executor/cuda/cuda_blas.cc:1518] Unable to register cuBLAS factory: Attempting to register factory for plugin cuBLAS when one has already been registered\n",
            "2023-11-21 04:18:32.134275: I tensorflow/core/platform/cpu_feature_guard.cc:182] This TensorFlow binary is optimized to use available CPU instructions in performance-critical operations.\n",
            "To enable the following instructions: AVX2 FMA, in other operations, rebuild TensorFlow with the appropriate compiler flags.\n",
            "2023-11-21 04:18:33.689020: W tensorflow/compiler/tf2tensorrt/utils/py_utils.cc:38] TF-TRT Warning: Could not find TensorRT\n",
            "2023-11-21 04:18:35.353599: I tensorflow/compiler/xla/stream_executor/cuda/cuda_gpu_executor.cc:894] successful NUMA node read from SysFS had negative value (-1), but there must be at least one NUMA node, so returning NUMA node zero. See more at https://github.com/torvalds/linux/blob/v6.0/Documentation/ABI/testing/sysfs-bus-pci#L344-L355\n",
            "2023-11-21 04:18:35.354545: I tensorflow/compiler/xla/stream_executor/cuda/cuda_gpu_executor.cc:894] successful NUMA node read from SysFS had negative value (-1), but there must be at least one NUMA node, so returning NUMA node zero. See more at https://github.com/torvalds/linux/blob/v6.0/Documentation/ABI/testing/sysfs-bus-pci#L344-L355\n",
            "2023-11-21 04:18:35.354786: I tensorflow/compiler/xla/stream_executor/cuda/cuda_gpu_executor.cc:894] successful NUMA node read from SysFS had negative value (-1), but there must be at least one NUMA node, so returning NUMA node zero. See more at https://github.com/torvalds/linux/blob/v6.0/Documentation/ABI/testing/sysfs-bus-pci#L344-L355\n",
            "False\n",
            "Running on local URL:  http://127.0.0.1:7860\n",
            "Running on public URL: https://474393548344e8fca1.gradio.live\n",
            "\n",
            "This share link expires in 72 hours. For free permanent hosting and GPU upgrades, run `gradio deploy` from Terminal to deploy to Spaces (https://huggingface.co/spaces)\n"
          ]
        }
      ]
    },
    {
      "cell_type": "code",
      "source": [],
      "metadata": {
        "id": "CxIloF2d69kJ"
      },
      "execution_count": null,
      "outputs": []
    }
  ]
}